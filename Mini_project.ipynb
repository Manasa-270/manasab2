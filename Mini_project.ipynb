{
  "nbformat": 4,
  "nbformat_minor": 0,
  "metadata": {
    "colab": {
      "provenance": [],
      "include_colab_link": true
    },
    "kernelspec": {
      "name": "python3",
      "display_name": "Python 3"
    },
    "language_info": {
      "name": "python"
    }
  },
  "cells": [
    {
      "cell_type": "markdown",
      "metadata": {
        "id": "view-in-github",
        "colab_type": "text"
      },
      "source": [
        "<a href=\"https://colab.research.google.com/github/Manasa-270/manasab2/blob/master/Mini_project.ipynb\" target=\"_parent\"><img src=\"https://colab.research.google.com/assets/colab-badge.svg\" alt=\"Open In Colab\"/></a>"
      ]
    },
    {
      "cell_type": "code",
      "source": [
        "import pandas as pd\n",
        "df = pd.read_csv(\"country_wise_latest.csv\")\n",
        "missing_values = df.isnull().sum()\n",
        "missing_values[missing_values > 0]\n",
        "selected_columns = [\"Confirmed\", \"Deaths\", \"Recovered\", \"Active\", \"New cases\",\n",
        "                    \"New deaths\", \"New recovered\", \"Deaths / 100 Cases\", \"Recovered / 100 Cases\"]\n",
        "df = df[selected_columns]\n",
        "print(df.head())"
      ],
      "metadata": {
        "id": "dkfJLB3Kk0z0",
        "colab": {
          "base_uri": "https://localhost:8080/"
        },
        "outputId": "c252bcfa-39dd-4d4e-ab75-679cec6a5ee2"
      },
      "execution_count": null,
      "outputs": [
        {
          "output_type": "stream",
          "name": "stdout",
          "text": [
            "   Confirmed  Deaths  Recovered  Active  New cases  New deaths  New recovered  \\\n",
            "0      36263    1269      25198    9796        106          10             18   \n",
            "1       4880     144       2745    1991        117           6             63   \n",
            "2      27973    1163      18837    7973        616           8            749   \n",
            "3        907      52        803      52         10           0              0   \n",
            "4        950      41        242     667         18           1              0   \n",
            "\n",
            "   Deaths / 100 Cases  Recovered / 100 Cases  \n",
            "0                3.50                  69.49  \n",
            "1                2.95                  56.25  \n",
            "2                4.16                  67.34  \n",
            "3                5.73                  88.53  \n",
            "4                4.32                  25.47  \n"
          ]
        }
      ]
    },
    {
      "cell_type": "code",
      "source": [],
      "metadata": {
        "colab": {
          "base_uri": "https://localhost:8080/"
        },
        "id": "g-AXK3pel2HK",
        "outputId": "3044371a-aa57-49cc-b639-37632bd71f07"
      },
      "execution_count": null,
      "outputs": [
        {
          "output_type": "stream",
          "name": "stdout",
          "text": [
            "Outliers flagged within original columns and saved to 'country_data_outliers_flagged.csv'\n"
          ]
        }
      ]
    },
    {
      "cell_type": "code",
      "source": [
        "import pandas as pd\n",
        "\n",
        "# Load the dataset\n",
        "df = pd.read_csv(\"country_wise_latest.csv\")  # Make sure the file is in the same directory\n",
        "\n",
        "# Step 1: Check and display missing values (optional for inspection)\n",
        "missing_values = df.isnull().sum()\n",
        "print(\"Missing values:\\n\", missing_values[missing_values > 0])\n",
        "\n",
        "# Step 2: Keep only the required columns\n",
        "selected_columns = [\n",
        "    \"Confirmed\", \"Deaths\", \"Recovered\", \"Active\", \"New cases\",\n",
        "    \"New deaths\", \"New recovered\", \"Deaths / 100 Cases\", \"Recovered / 100 Cases\"\n",
        "]\n",
        "df = df[selected_columns]\n",
        "\n",
        "# Step 3: Function to replace outliers with a flag\n",
        "def replace_with_flag(series):\n",
        "    Q1 = series.quantile(0.25)\n",
        "    Q3 = series.quantile(0.75)\n",
        "    IQR = Q3 - Q1\n",
        "    lower = Q1 - 1.5 * IQR\n",
        "    upper = Q3 + 1.5 * IQR\n",
        "    return series.apply(lambda x: f\"OUTLIER ({x})\" if x < lower or x > upper else x)\n",
        "\n",
        "# Step 4: Apply outlier flagging\n",
        "df['New cases'] = replace_with_flag(df['New cases'])\n",
        "df['New deaths'] = replace_with_flag(df['New deaths'])\n",
        "df['New recovered'] = replace_with_flag(df['New recovered'])\n",
        "\n",
        "# Step 5: Save the updated dataframe to a new file\n",
        "df.to_csv(\"country_data_outliers_flagged.csv\", index=False)\n",
        "\n",
        "print(\"Final dataset saved to 'country_data_outliers_flagged.csv'\")"
      ],
      "metadata": {
        "colab": {
          "base_uri": "https://localhost:8080/"
        },
        "id": "GXADdl3sl8Sb",
        "outputId": "b72c8924-f3e2-433b-dc71-c320f33ec9d3"
      },
      "execution_count": null,
      "outputs": [
        {
          "output_type": "stream",
          "name": "stdout",
          "text": [
            "Missing values:\n",
            " Series([], dtype: int64)\n",
            "Final dataset saved to 'country_data_outliers_flagged.csv'\n"
          ]
        }
      ]
    },
    {
      "cell_type": "code",
      "source": [
        "import pandas as pd\n",
        "\n",
        "# Step 1: Load the dataset\n",
        "df = pd.read_csv(\"country_wise_latest.csv\")  # Make sure the file is in the same folder\n",
        "\n",
        "# Step 2: Check and display missing values (optional)\n",
        "missing_values = df.isnull().sum()\n",
        "print(\"Missing values:\\n\", missing_values[missing_values > 0])  # Shows only columns with NaNs\n",
        "\n",
        "# Step 3: Keep only the required columns\n",
        "selected_columns = [\n",
        "    \"Confirmed\", \"Deaths\", \"Recovered\", \"Active\", \"New cases\",\n",
        "    \"New deaths\", \"New recovered\", \"Deaths / 100 Cases\", \"Recovered / 100 Cases\"\n",
        "]\n",
        "df = df[selected_columns]\n",
        "\n",
        "# Display the first few rows of the cleaned data\n",
        "print(\"\\nInitial cleaned data (before outlier flagging):\")\n",
        "print(df.head())\n",
        "\n",
        "# Step 4: Define a function to replace outliers with a flag\n",
        "def replace_with_flag(series):\n",
        "    Q1 = series.quantile(0.25)\n",
        "    Q3 = series.quantile(0.75)\n",
        "    IQR = Q3 - Q1\n",
        "    lower = Q1 - 1.5 * IQR\n",
        "    upper = Q3 + 1.5 * IQR\n",
        "    return series.apply(lambda x: f\"OUTLIER ({x})\" if x < lower or x > upper else x)\n",
        "\n",
        "# Step 5: Apply the function to the relevant columns\n",
        "df['New cases'] = replace_with_flag(df['New cases'])\n",
        "df['New deaths'] = replace_with_flag(df['New deaths'])\n",
        "df['New recovered'] = replace_with_flag(df['New recovered'])\n",
        "\n",
        "# Step 6: Show a preview of the updated data\n",
        "print(\"\\nUpdated data with outliers flagged:\")\n",
        "print(df[['New cases', 'New deaths', 'New recovered']].head())\n",
        "\n",
        "# Step 7: Save the final result to a new CSV file\n",
        "df.to_csv(\"country_data_outliers_flagged.csv\", index=False)\n",
        "print(\"\\n✅ Final dataset saved to 'country_data_outliers_flagged.csv'\")\n"
      ],
      "metadata": {
        "colab": {
          "base_uri": "https://localhost:8080/"
        },
        "id": "ViaApejgmCFA",
        "outputId": "760d7096-fc41-4943-bd1e-383c7413a5ec"
      },
      "execution_count": null,
      "outputs": [
        {
          "output_type": "stream",
          "name": "stdout",
          "text": [
            "Missing values:\n",
            " Series([], dtype: int64)\n",
            "\n",
            "Initial cleaned data (before outlier flagging):\n",
            "   Confirmed  Deaths  Recovered  Active  New cases  New deaths  New recovered  \\\n",
            "0      36263    1269      25198    9796        106          10             18   \n",
            "1       4880     144       2745    1991        117           6             63   \n",
            "2      27973    1163      18837    7973        616           8            749   \n",
            "3        907      52        803      52         10           0              0   \n",
            "4        950      41        242     667         18           1              0   \n",
            "\n",
            "   Deaths / 100 Cases  Recovered / 100 Cases  \n",
            "0                3.50                  69.49  \n",
            "1                2.95                  56.25  \n",
            "2                4.16                  67.34  \n",
            "3                5.73                  88.53  \n",
            "4                4.32                  25.47  \n",
            "\n",
            "Updated data with outliers flagged:\n",
            "  New cases New deaths  New recovered\n",
            "0       106         10             18\n",
            "1       117          6             63\n",
            "2       616          8  OUTLIER (749)\n",
            "3        10          0              0\n",
            "4        18          1              0\n",
            "\n",
            "✅ Final dataset saved to 'country_data_outliers_flagged.csv'\n"
          ]
        }
      ]
    },
    {
      "cell_type": "code",
      "source": [
        "df.rename(columns={\"WHO Region\": \"Region\"}, inplace=True)\n",
        "\n",
        "# Change 'Americas' to 'America'\n",
        "df[\"Region\"] = df[\"Region\"].replace(\"Americas\", \"America\")"
      ],
      "metadata": {
        "colab": {
          "base_uri": "https://localhost:8080/",
          "height": 642
        },
        "id": "KjVuKkhPmQyY",
        "outputId": "0235b7cd-3c26-4a74-b25b-87d7669136b3"
      },
      "execution_count": null,
      "outputs": [
        {
          "output_type": "error",
          "ename": "KeyError",
          "evalue": "'Region'",
          "traceback": [
            "\u001b[0;31m---------------------------------------------------------------------------\u001b[0m",
            "\u001b[0;31mKeyError\u001b[0m                                  Traceback (most recent call last)",
            "\u001b[0;32m/usr/local/lib/python3.11/dist-packages/pandas/core/indexes/base.py\u001b[0m in \u001b[0;36mget_loc\u001b[0;34m(self, key)\u001b[0m\n\u001b[1;32m   3804\u001b[0m         \u001b[0;32mtry\u001b[0m\u001b[0;34m:\u001b[0m\u001b[0;34m\u001b[0m\u001b[0;34m\u001b[0m\u001b[0m\n\u001b[0;32m-> 3805\u001b[0;31m             \u001b[0;32mreturn\u001b[0m \u001b[0mself\u001b[0m\u001b[0;34m.\u001b[0m\u001b[0m_engine\u001b[0m\u001b[0;34m.\u001b[0m\u001b[0mget_loc\u001b[0m\u001b[0;34m(\u001b[0m\u001b[0mcasted_key\u001b[0m\u001b[0;34m)\u001b[0m\u001b[0;34m\u001b[0m\u001b[0;34m\u001b[0m\u001b[0m\n\u001b[0m\u001b[1;32m   3806\u001b[0m         \u001b[0;32mexcept\u001b[0m \u001b[0mKeyError\u001b[0m \u001b[0;32mas\u001b[0m \u001b[0merr\u001b[0m\u001b[0;34m:\u001b[0m\u001b[0;34m\u001b[0m\u001b[0;34m\u001b[0m\u001b[0m\n",
            "\u001b[0;32mindex.pyx\u001b[0m in \u001b[0;36mpandas._libs.index.IndexEngine.get_loc\u001b[0;34m()\u001b[0m\n",
            "\u001b[0;32mindex.pyx\u001b[0m in \u001b[0;36mpandas._libs.index.IndexEngine.get_loc\u001b[0;34m()\u001b[0m\n",
            "\u001b[0;32mpandas/_libs/hashtable_class_helper.pxi\u001b[0m in \u001b[0;36mpandas._libs.hashtable.PyObjectHashTable.get_item\u001b[0;34m()\u001b[0m\n",
            "\u001b[0;32mpandas/_libs/hashtable_class_helper.pxi\u001b[0m in \u001b[0;36mpandas._libs.hashtable.PyObjectHashTable.get_item\u001b[0;34m()\u001b[0m\n",
            "\u001b[0;31mKeyError\u001b[0m: 'Region'",
            "\nThe above exception was the direct cause of the following exception:\n",
            "\u001b[0;31mKeyError\u001b[0m                                  Traceback (most recent call last)",
            "\u001b[0;32m<ipython-input-9-9013c1c97f3c>\u001b[0m in \u001b[0;36m<cell line: 0>\u001b[0;34m()\u001b[0m\n\u001b[1;32m      2\u001b[0m \u001b[0;34m\u001b[0m\u001b[0m\n\u001b[1;32m      3\u001b[0m \u001b[0;31m# Change 'Americas' to 'America'\u001b[0m\u001b[0;34m\u001b[0m\u001b[0;34m\u001b[0m\u001b[0m\n\u001b[0;32m----> 4\u001b[0;31m \u001b[0mdf\u001b[0m\u001b[0;34m[\u001b[0m\u001b[0;34m\"Region\"\u001b[0m\u001b[0;34m]\u001b[0m \u001b[0;34m=\u001b[0m \u001b[0mdf\u001b[0m\u001b[0;34m[\u001b[0m\u001b[0;34m\"Region\"\u001b[0m\u001b[0;34m]\u001b[0m\u001b[0;34m.\u001b[0m\u001b[0mreplace\u001b[0m\u001b[0;34m(\u001b[0m\u001b[0;34m\"Americas\"\u001b[0m\u001b[0;34m,\u001b[0m \u001b[0;34m\"America\"\u001b[0m\u001b[0;34m)\u001b[0m\u001b[0;34m\u001b[0m\u001b[0;34m\u001b[0m\u001b[0m\n\u001b[0m",
            "\u001b[0;32m/usr/local/lib/python3.11/dist-packages/pandas/core/frame.py\u001b[0m in \u001b[0;36m__getitem__\u001b[0;34m(self, key)\u001b[0m\n\u001b[1;32m   4100\u001b[0m             \u001b[0;32mif\u001b[0m \u001b[0mself\u001b[0m\u001b[0;34m.\u001b[0m\u001b[0mcolumns\u001b[0m\u001b[0;34m.\u001b[0m\u001b[0mnlevels\u001b[0m \u001b[0;34m>\u001b[0m \u001b[0;36m1\u001b[0m\u001b[0;34m:\u001b[0m\u001b[0;34m\u001b[0m\u001b[0;34m\u001b[0m\u001b[0m\n\u001b[1;32m   4101\u001b[0m                 \u001b[0;32mreturn\u001b[0m \u001b[0mself\u001b[0m\u001b[0;34m.\u001b[0m\u001b[0m_getitem_multilevel\u001b[0m\u001b[0;34m(\u001b[0m\u001b[0mkey\u001b[0m\u001b[0;34m)\u001b[0m\u001b[0;34m\u001b[0m\u001b[0;34m\u001b[0m\u001b[0m\n\u001b[0;32m-> 4102\u001b[0;31m             \u001b[0mindexer\u001b[0m \u001b[0;34m=\u001b[0m \u001b[0mself\u001b[0m\u001b[0;34m.\u001b[0m\u001b[0mcolumns\u001b[0m\u001b[0;34m.\u001b[0m\u001b[0mget_loc\u001b[0m\u001b[0;34m(\u001b[0m\u001b[0mkey\u001b[0m\u001b[0;34m)\u001b[0m\u001b[0;34m\u001b[0m\u001b[0;34m\u001b[0m\u001b[0m\n\u001b[0m\u001b[1;32m   4103\u001b[0m             \u001b[0;32mif\u001b[0m \u001b[0mis_integer\u001b[0m\u001b[0;34m(\u001b[0m\u001b[0mindexer\u001b[0m\u001b[0;34m)\u001b[0m\u001b[0;34m:\u001b[0m\u001b[0;34m\u001b[0m\u001b[0;34m\u001b[0m\u001b[0m\n\u001b[1;32m   4104\u001b[0m                 \u001b[0mindexer\u001b[0m \u001b[0;34m=\u001b[0m \u001b[0;34m[\u001b[0m\u001b[0mindexer\u001b[0m\u001b[0;34m]\u001b[0m\u001b[0;34m\u001b[0m\u001b[0;34m\u001b[0m\u001b[0m\n",
            "\u001b[0;32m/usr/local/lib/python3.11/dist-packages/pandas/core/indexes/base.py\u001b[0m in \u001b[0;36mget_loc\u001b[0;34m(self, key)\u001b[0m\n\u001b[1;32m   3810\u001b[0m             ):\n\u001b[1;32m   3811\u001b[0m                 \u001b[0;32mraise\u001b[0m \u001b[0mInvalidIndexError\u001b[0m\u001b[0;34m(\u001b[0m\u001b[0mkey\u001b[0m\u001b[0;34m)\u001b[0m\u001b[0;34m\u001b[0m\u001b[0;34m\u001b[0m\u001b[0m\n\u001b[0;32m-> 3812\u001b[0;31m             \u001b[0;32mraise\u001b[0m \u001b[0mKeyError\u001b[0m\u001b[0;34m(\u001b[0m\u001b[0mkey\u001b[0m\u001b[0;34m)\u001b[0m \u001b[0;32mfrom\u001b[0m \u001b[0merr\u001b[0m\u001b[0;34m\u001b[0m\u001b[0;34m\u001b[0m\u001b[0m\n\u001b[0m\u001b[1;32m   3813\u001b[0m         \u001b[0;32mexcept\u001b[0m \u001b[0mTypeError\u001b[0m\u001b[0;34m:\u001b[0m\u001b[0;34m\u001b[0m\u001b[0;34m\u001b[0m\u001b[0m\n\u001b[1;32m   3814\u001b[0m             \u001b[0;31m# If we have a listlike key, _check_indexing_error will raise\u001b[0m\u001b[0;34m\u001b[0m\u001b[0;34m\u001b[0m\u001b[0m\n",
            "\u001b[0;31mKeyError\u001b[0m: 'Region'"
          ]
        }
      ]
    },
    {
      "cell_type": "code",
      "source": [
        "import pandas as pd\n",
        "\n",
        "# Step 1: Load the dataset\n",
        "df = pd.read_csv(\"country_wise_latest.csv\")\n",
        "\n",
        "# Step 2: Check and display missing values (optional)\n",
        "missing_values = df.isnull().sum()\n",
        "print(\"🔍 Missing values found:\\n\", missing_values[missing_values > 0])\n",
        "\n",
        "# Step 3: Select and keep only required columns\n",
        "selected_columns = [\n",
        "    \"Country/Region\", \"Confirmed\", \"Deaths\", \"Recovered\", \"Active\", \"New cases\",\n",
        "    \"New deaths\", \"New recovered\", \"Deaths / 100 Cases\", \"Recovered / 100 Cases\"\n",
        "]\n",
        "# Add region if available\n",
        "if \"WHO Region\" in df.columns:\n",
        "    selected_columns.append(\"WHO Region\")\n",
        "\n",
        "df = df[selected_columns]\n",
        "\n",
        "# Rename WHO Region to Region if exists\n",
        "if \"WHO Region\" in df.columns:\n",
        "    df.rename(columns={\"WHO Region\": \"Region\"}, inplace=True)\n",
        "\n",
        "# Step 4: Feature Engineering – New Columns\n",
        "\n",
        "# CFR\n",
        "df[\"CFR (%)\"] = (df[\"Deaths\"] / df[\"Confirmed\"].replace(0, 1)) * 100\n",
        "\n",
        "# New Cases Growth Rate\n",
        "df[\"New Cases Growth Rate (%)\"] = (df[\"New cases\"] / df[\"Confirmed\"].replace(0, 1)) * 100\n",
        "\n",
        "# Mortality Risk Score\n",
        "df[\"Mortality Risk Score\"] = df[\"CFR (%)\"] + (df[\"Deaths\"] / df[\"Active\"].replace(0, 1)) * 10\n",
        "\n",
        "# 🔍 Print formula explanations\n",
        "print(\"\\n📘 Formula Explanations for New Columns:\")\n",
        "print(\"1. CFR (%) = (Deaths / Confirmed) * 100\")\n",
        "print(\"   ➤ Indicates what percent of confirmed cases have resulted in death.\")\n",
        "\n",
        "print(\"2. New Cases Growth Rate (%) = (New cases / Confirmed) * 100\")\n",
        "print(\"   ➤ Measures how rapidly new cases are growing compared to total confirmed.\")\n",
        "\n",
        "print(\"3. Mortality Risk Score = CFR (%) + (Deaths / Active cases) * 10\")\n",
        "print(\"   ➤ A custom indicator to reflect overall severity combining fatality and active case death risk.\")\n",
        "\n",
        "# Step 5: Function to flag outliers using IQR\n",
        "def replace_with_flag(series):\n",
        "    Q1 = series.quantile(0.25)\n",
        "    Q3 = series.quantile(0.75)\n",
        "    IQR = Q3 - Q1\n",
        "    lower = Q1 - 1.5 * IQR\n",
        "    upper = Q3 + 1.5 * IQR\n",
        "    return series.apply(lambda x: f\"OUTLIER ({x})\" if x < lower or x > upper else x)\n",
        "\n",
        "# Step 6: Apply outlier detection to selected columns\n",
        "df[\"New cases\"] = replace_with_flag(df[\"New cases\"])\n",
        "df[\"New deaths\"] = replace_with_flag(df[\"New deaths\"])\n",
        "df[\"New recovered\"] = replace_with_flag(df[\"New recovered\"])\n",
        "\n",
        "# Step 7: Region-wise aggregation if Region column exists\n",
        "if \"Region\" in df.columns:\n",
        "    region_summary = df.groupby(\"Region\")[[\"Confirmed\", \"Deaths\", \"Recovered\", \"Active\"]].sum()\n",
        "    region_summary[\"CFR (%)\"] = (region_summary[\"Deaths\"] / region_summary[\"Confirmed\"].replace(0, 1)) * 100\n",
        "    region_summary[\"Recovery Rate (%)\"] = (region_summary[\"Recovered\"] / region_summary[\"Confirmed\"].replace(0, 1)) * 100\n",
        "\n",
        "    print(\"\\n📊 Region-wise Summary (Aggregated):\")\n",
        "    print(region_summary)\n",
        "\n",
        "# Step 8: Save the final dataset\n",
        "df.to_csv(\"country_data_outliers_flagged_extended.csv\", index=False)\n",
        "print(\"\\n✅ Final enhanced dataset saved as 'country_data_outliers_flagged_extended.csv'\")\n"
      ],
      "metadata": {
        "colab": {
          "base_uri": "https://localhost:8080/"
        },
        "id": "3FK_Knoumgn7",
        "outputId": "82cfa349-1e99-4a79-f8fe-d43389553d22"
      },
      "execution_count": null,
      "outputs": [
        {
          "output_type": "stream",
          "name": "stdout",
          "text": [
            "🔍 Missing values found:\n",
            " Series([], dtype: int64)\n",
            "\n",
            "📘 Formula Explanations for New Columns:\n",
            "1. CFR (%) = (Deaths / Confirmed) * 100\n",
            "   ➤ Indicates what percent of confirmed cases have resulted in death.\n",
            "2. New Cases Growth Rate (%) = (New cases / Confirmed) * 100\n",
            "   ➤ Measures how rapidly new cases are growing compared to total confirmed.\n",
            "3. Mortality Risk Score = CFR (%) + (Deaths / Active cases) * 10\n",
            "   ➤ A custom indicator to reflect overall severity combining fatality and active case death risk.\n",
            "\n",
            "📊 Region-wise Summary (Aggregated):\n",
            "                       Confirmed  Deaths  Recovered   Active   CFR (%)  \\\n",
            "Region                                                                   \n",
            "Africa                    723207   12223     440645   270339  1.690111   \n",
            "Americas                 8839286  342732    4468616  4027938  3.877372   \n",
            "Eastern Mediterranean    1490744   38339    1201400   251005  2.571803   \n",
            "Europe                   3299523  211144    1993723  1094656  6.399228   \n",
            "South-East Asia          1835297   41349    1156933   637015  2.252987   \n",
            "Western Pacific           292428    8249     206770    77409  2.820865   \n",
            "\n",
            "                       Recovery Rate (%)  \n",
            "Region                                    \n",
            "Africa                         60.929305  \n",
            "Americas                       50.554038  \n",
            "Eastern Mediterranean          80.590631  \n",
            "Europe                         60.424583  \n",
            "South-East Asia                63.037917  \n",
            "Western Pacific                70.708003  \n",
            "\n",
            "✅ Final enhanced dataset saved as 'country_data_outliers_flagged_extended.csv'\n"
          ]
        }
      ]
    },
    {
      "cell_type": "code",
      "source": [
        "import pandas as pd\n",
        "import matplotlib.pyplot as plt\n",
        "import seaborn as sns\n",
        "df = pd.read_csv(\"country_wise_latest.csv\")\n",
        "# Boxplot for detecting outliers visually\n",
        "plt.figure(figsize=(6,7))\n",
        "sns.boxplot(x=df[\"New deaths\"])\n",
        "plt.title(\"Boxplot of New Deaths\")\n",
        "plt.show()"
      ],
      "metadata": {
        "colab": {
          "base_uri": "https://localhost:8080/",
          "height": 641
        },
        "id": "YHg0-iKym_aE",
        "outputId": "3312918e-f12f-42c8-a0ee-555f4a46354f"
      },
      "execution_count": null,
      "outputs": [
        {
          "output_type": "display_data",
          "data": {
            "text/plain": [
              "<Figure size 600x700 with 1 Axes>"
            ],
            "image/png": "[encoded data removed]"
          },
          "metadata": {}
        }
      ]
    },
    {
      "cell_type": "code",
      "source": [
        "import pandas as pd\n",
        "\n",
        "# Load the dataset\n",
        "df = pd.read_csv(\"country_wise_latest.csv\")\n",
        "\n",
        "# If the region column is named \"WHO Region\", rename it to \"Region\"\n",
        "if \"WHO Region\" in df.columns:\n",
        "    df.rename(columns={\"WHO Region\": \"Region\"}, inplace=True)\n",
        "\n",
        "# Show unique values before replacement (optional)\n",
        "print(\"Before replacement:\\n\", df[\"Region\"].unique())\n",
        "\n",
        "# Replace \"Americas\" with \"America\"\n",
        "df[\"Region\"] = df[\"Region\"].replace(\"Americas\", \"America\")\n",
        "\n",
        "# Show unique values after replacement (optional)\n",
        "print(\"\\nAfter replacement:\\n\", df[\"Region\"].unique())\n"
      ],
      "metadata": {
        "colab": {
          "base_uri": "https://localhost:8080/"
        },
        "id": "IwNbsLD_mpHi",
        "outputId": "b5cfc4d6-44fa-4d93-ede3-fe8c33b5fe7f"
      },
      "execution_count": null,
      "outputs": [
        {
          "output_type": "stream",
          "name": "stdout",
          "text": [
            "Before replacement:\n",
            " ['Eastern Mediterranean' 'Europe' 'Africa' 'Americas' 'Western Pacific'\n",
            " 'South-East Asia']\n",
            "\n",
            "After replacement:\n",
            " ['Eastern Mediterranean' 'Europe' 'Africa' 'America' 'Western Pacific'\n",
            " 'South-East Asia']\n"
          ]
        }
      ]
    },
    {
      "cell_type": "code",
      "source": [
        "# Replace \"Americas\" with \"America\"\n",
        "import pandas as pd\n",
        "df[\"Region\"] = df[\"Region\"].replace(\"Americas\", \"America\")\n",
        "\n",
        "# Save to CSV\n",
        "df.to_csv(\"country_wise_latest.csv\", index=False)  # Overwrites original file\n"
      ],
      "metadata": {
        "id": "Z6IssNs_muog",
        "colab": {
          "base_uri": "https://localhost:8080/",
          "height": 211
        },
        "outputId": "7d2fb52e-5b2e-4c86-b686-09c248ed6951"
      },
      "execution_count": null,
      "outputs": [
        {
          "output_type": "error",
          "ename": "NameError",
          "evalue": "name 'df' is not defined",
          "traceback": [
            "\u001b[0;31m---------------------------------------------------------------------------\u001b[0m",
            "\u001b[0;31mNameError\u001b[0m                                 Traceback (most recent call last)",
            "\u001b[0;32m<ipython-input-2-03f51d3f707c>\u001b[0m in \u001b[0;36m<cell line: 0>\u001b[0;34m()\u001b[0m\n\u001b[1;32m      1\u001b[0m \u001b[0;31m# Replace \"Americas\" with \"America\"\u001b[0m\u001b[0;34m\u001b[0m\u001b[0;34m\u001b[0m\u001b[0m\n\u001b[1;32m      2\u001b[0m \u001b[0;32mimport\u001b[0m \u001b[0mpandas\u001b[0m \u001b[0;32mas\u001b[0m \u001b[0mpd\u001b[0m\u001b[0;34m\u001b[0m\u001b[0;34m\u001b[0m\u001b[0m\n\u001b[0;32m----> 3\u001b[0;31m \u001b[0mdf\u001b[0m\u001b[0;34m[\u001b[0m\u001b[0;34m\"Region\"\u001b[0m\u001b[0;34m]\u001b[0m \u001b[0;34m=\u001b[0m \u001b[0mdf\u001b[0m\u001b[0;34m[\u001b[0m\u001b[0;34m\"Region\"\u001b[0m\u001b[0;34m]\u001b[0m\u001b[0;34m.\u001b[0m\u001b[0mreplace\u001b[0m\u001b[0;34m(\u001b[0m\u001b[0;34m\"Americas\"\u001b[0m\u001b[0;34m,\u001b[0m \u001b[0;34m\"America\"\u001b[0m\u001b[0;34m)\u001b[0m\u001b[0;34m\u001b[0m\u001b[0;34m\u001b[0m\u001b[0m\n\u001b[0m\u001b[1;32m      4\u001b[0m \u001b[0;34m\u001b[0m\u001b[0m\n\u001b[1;32m      5\u001b[0m \u001b[0;31m# Save to CSV\u001b[0m\u001b[0;34m\u001b[0m\u001b[0;34m\u001b[0m\u001b[0m\n",
            "\u001b[0;31mNameError\u001b[0m: name 'df' is not defined"
          ]
        }
      ]
    },
    {
      "cell_type": "code",
      "source": [
        "import pandas as pd\n",
        "\n",
        "# Load the original dataset\n",
        "df = pd.read_csv(\"country_wise_latest.csv\")\n",
        "\n",
        "# Define the columns you want to keep\n",
        "selected_columns = [\n",
        "    \"Country/Region\", \"Confirmed\", \"Deaths\", \"Recovered\", \"Active\", \"New cases\",\n",
        "    \"New deaths\", \"New recovered\", \"Deaths / 100 Cases\", \"Recovered / 100 Cases\"\n",
        "]\n",
        "\n",
        "# Filter the DataFrame to keep only those columns\n",
        "df = df[selected_columns]\n",
        "\n",
        "# Overwrite the original CSV with only selected columns\n",
        "df.to_csv(\"country_wise_latest.csv\", index=False)\n",
        "\n",
        "print(\"✅ Updated 'country_wise_latest.csv' with only selected columns.\")\n"
      ],
      "metadata": {
        "colab": {
          "base_uri": "https://localhost:8080/"
        },
        "id": "pERkP8xOm3Qf",
        "outputId": "3b195a84-ae2b-4900-d707-244a0f69a648"
      },
      "execution_count": null,
      "outputs": [
        {
          "output_type": "stream",
          "name": "stdout",
          "text": [
            "✅ Updated 'country_wise_latest.csv' with only selected columns.\n"
          ]
        }
      ]
    },
    {
      "cell_type": "code",
      "source": [
        "import pandas as pd\n",
        "\n",
        "# Use df = pd.read_csv(\"country_wise_latest.csv\") to load the original dataset.\n",
        "\n",
        "# Specify which columns you wish to retain: selected_columns = [ \"Country/Region\", \"Confirmed\", \"Deaths\", \"Recovered\", \"Active\", \"New cases\", \"New deaths\", \"New recovered\", \"Deaths / 100 Cases\", \"Recovered / 100 Cases\"]\n",
        "\n",
        "# To retain only those columns, filter the DataFrame.\n",
        "df = df[selected_columns]\n",
        "\n",
        "# Use df.to_csv(\"country_wise_latest.csv\", index=False) to overwrite the original CSV with just the chosen columns.\n",
        "\n",
        "print(\"✅ Only selected columns were added to 'country_wise_latest.csv'.\")\n"
      ],
      "metadata": {
        "colab": {
          "base_uri": "https://localhost:8080/"
        },
        "id": "-oRC8EFim7jv",
        "outputId": "175427c1-35e3-4fd9-be58-2156e2fcfcdd"
      },
      "execution_count": null,
      "outputs": [
        {
          "output_type": "stream",
          "name": "stdout",
          "text": [
            "\n",
            "📊 Statistics for Confirmed:\n",
            "Mean: 88130.94\n",
            "Median: 5059.00\n",
            "Mode: [   24    86 10621]\n",
            "\n",
            "📊 Statistics for Deaths:\n",
            "Mean: 3497.52\n",
            "Median: 108.00\n",
            "Mode: [0]\n",
            "\n",
            "📊 Statistics for Recovered:\n",
            "Mean: 50631.48\n",
            "Median: 2815.00\n",
            "Mode: [0]\n",
            "\n",
            "📊 Statistics for Active:\n",
            "Mean: 34001.94\n",
            "Median: 1600.00\n",
            "Mode: [0]\n",
            "\n",
            "📊 Statistics for New cases:\n",
            "Mean: 1222.96\n",
            "Median: 49.00\n",
            "Mode: [0]\n",
            "\n",
            "📊 Statistics for New deaths:\n",
            "Mean: 28.96\n",
            "Median: 1.00\n",
            "Mode: [0]\n",
            "\n",
            "📊 Statistics for New recovered:\n",
            "Mean: 933.81\n",
            "Median: 22.00\n",
            "Mode: [0]\n"
          ]
        }
      ]
    },
    {
      "cell_type": "code",
      "source": [
        "import pandas as pd\n",
        "\n",
        "# Load cleaned dataset\n",
        "df = pd.read_csv(\"country_data_outliers_flagged_extended.csv\")\n",
        "\n",
        "# Convert 'New cases' etc. back to numbers if needed\n",
        "for col in ['New cases', 'New deaths', 'New recovered']:\n",
        "    df[col] = pd.to_numeric(df[col].replace(to_replace=r'OUTLIER \\((.*?)\\)', value=r'\\1', regex=True), errors='coerce')\n",
        "\n",
        "# Descriptive stats for 'Confirmed' as a sales proxy\n",
        "print(\"📊 Descriptive Statistics for Confirmed Cases (used as Sales):\")\n",
        "print(f\"Mean: {df['Confirmed'].mean():.2f}\")\n",
        "print(f\"Median: {df['Confirmed'].median():.2f}\")\n",
        "print(f\"Standard Deviation: {df['Confirmed'].std():.2f}\")"
      ],
      "metadata": {
        "colab": {
          "base_uri": "https://localhost:8080/"
        },
        "id": "GE9KOjp1nIw_",
        "outputId": "88dbedec-d1eb-4c66-b6a7-12eb652b6bfd"
      },
      "execution_count": null,
      "outputs": [
        {
          "output_type": "stream",
          "name": "stdout",
          "text": [
            "📊 Descriptive Statistics for Confirmed Cases (used as Sales):\n",
            "Mean: 88130.94\n",
            "Median: 5059.00\n",
            "Standard Deviation: 383318.66\n"
          ]
        }
      ]
    },
    {
      "cell_type": "code",
      "source": [
        "from scipy.stats import zscore\n",
        "\n",
        "# Calculate Z-score for 'Confirmed' (used as sales)\n",
        "df['Confirmed_ZScore'] = zscore(df['Confirmed'])\n",
        "\n",
        "# Flag extreme values\n",
        "df['Outlier_Flag'] = df['Confirmed_ZScore'].apply(lambda z: 'High' if z > 2 else ('Low' if z < -2 else 'Normal'))\n",
        "\n",
        "print(\"\\n📍 Z-Score based flags:\")\n",
        "print(df[['Country/Region', 'Confirmed', 'Confirmed_ZScore', 'Outlier_Flag']].head())"
      ],
      "metadata": {
        "colab": {
          "base_uri": "https://localhost:8080/"
        },
        "id": "N4S3PSAJnNME",
        "outputId": "e9f3a710-2c53-4d33-aa0f-c2fef455e995"
      },
      "execution_count": null,
      "outputs": [
        {
          "output_type": "stream",
          "name": "stdout",
          "text": [
            "\n",
            "📍 Z-Score based flags:\n",
            "  Country/Region  Confirmed  Confirmed_ZScore Outlier_Flag\n",
            "0    Afghanistan      36263         -0.135676       Normal\n",
            "1        Albania       4880         -0.217768       Normal\n",
            "2        Algeria      27973         -0.157361       Normal\n",
            "3        Andorra        907         -0.228160       Normal\n",
            "4         Angola        950         -0.228048       Normal\n"
          ]
        }
      ]
    },
    {
      "cell_type": "code",
      "source": [
        "# Define high-value as top 25%, low-value as bottom 25%\n",
        "q75 = df['Confirmed'].quantile(0.75)\n",
        "q25 = df['Confirmed'].quantile(0.25)\n",
        "\n",
        "def categorize(value):\n",
        "    if value >= q75:\n",
        "        return \"High-Value\"\n",
        "    elif value <= q25:\n",
        "        return \"Low-Value\"\n",
        "    else:\n",
        "        return \"Mid-Value\"\n",
        "\n",
        "df['Customer_Segment'] = df['Confirmed'].apply(categorize)\n",
        "\n",
        "print(\"\\nPatients based on Confirmed:\")\n",
        "print(df[['Country/Region', 'Confirmed', 'Customer_Segment']].head())"
      ],
      "metadata": {
        "colab": {
          "base_uri": "https://localhost:8080/",
          "height": 211
        },
        "id": "c4DO1g0InRPx",
        "outputId": "3a802f3d-bf61-49ae-855a-936d2408c4fd"
      },
      "execution_count": 2,
      "outputs": [
        {
          "output_type": "error",
          "ename": "NameError",
          "evalue": "name 'df' is not defined",
          "traceback": [
            "\u001b[0;31m---------------------------------------------------------------------------\u001b[0m",
            "\u001b[0;31mNameError\u001b[0m                                 Traceback (most recent call last)",
            "\u001b[0;32m<ipython-input-2-f7bdcc4876d3>\u001b[0m in \u001b[0;36m<cell line: 0>\u001b[0;34m()\u001b[0m\n\u001b[1;32m      1\u001b[0m \u001b[0;31m# Define high-value as top 25%, low-value as bottom 25%\u001b[0m\u001b[0;34m\u001b[0m\u001b[0;34m\u001b[0m\u001b[0m\n\u001b[0;32m----> 2\u001b[0;31m \u001b[0mq75\u001b[0m \u001b[0;34m=\u001b[0m \u001b[0mdf\u001b[0m\u001b[0;34m[\u001b[0m\u001b[0;34m'Confirmed'\u001b[0m\u001b[0;34m]\u001b[0m\u001b[0;34m.\u001b[0m\u001b[0mquantile\u001b[0m\u001b[0;34m(\u001b[0m\u001b[0;36m0.75\u001b[0m\u001b[0;34m)\u001b[0m\u001b[0;34m\u001b[0m\u001b[0;34m\u001b[0m\u001b[0m\n\u001b[0m\u001b[1;32m      3\u001b[0m \u001b[0mq25\u001b[0m \u001b[0;34m=\u001b[0m \u001b[0mdf\u001b[0m\u001b[0;34m[\u001b[0m\u001b[0;34m'Confirmed'\u001b[0m\u001b[0;34m]\u001b[0m\u001b[0;34m.\u001b[0m\u001b[0mquantile\u001b[0m\u001b[0;34m(\u001b[0m\u001b[0;36m0.25\u001b[0m\u001b[0;34m)\u001b[0m\u001b[0;34m\u001b[0m\u001b[0;34m\u001b[0m\u001b[0m\n\u001b[1;32m      4\u001b[0m \u001b[0;34m\u001b[0m\u001b[0m\n\u001b[1;32m      5\u001b[0m \u001b[0;32mdef\u001b[0m \u001b[0mcategorize\u001b[0m\u001b[0;34m(\u001b[0m\u001b[0mvalue\u001b[0m\u001b[0;34m)\u001b[0m\u001b[0;34m:\u001b[0m\u001b[0;34m\u001b[0m\u001b[0;34m\u001b[0m\u001b[0m\n",
            "\u001b[0;31mNameError\u001b[0m: name 'df' is not defined"
          ]
        }
      ]
    },
    {
      "cell_type": "code",
      "source": [
        "import pandas as pd\n",
        "import seaborn as sns\n",
        "import matplotlib.pyplot as plt\n",
        "\n",
        "# Load the CSV file\n",
        "df = pd.read_csv(\"country_data_outliers_flagged_extended.csv\")\n",
        "\n",
        "# Rename column if needed for consistency\n",
        "df = df.rename(columns={\"Country/Region\": \"Country\"})\n",
        "\n",
        "# Sort to get top 5 countries by confirmed cases\n",
        "top_5 = df.sort_values(by='Confirmed', ascending=False).head()\n",
        "\n",
        "# Plot\n",
        "plt.figure(figsize=(15, 5))\n",
        "confirmed = sns.barplot(x='Confirmed', y='Country', data=top_5, color='red', label='Confirmed')\n",
        "recovered = sns.barplot(x='Recovered', y='Country', data=top_5, color='green', label='Recovered')\n",
        "\n",
        "# Add value labels\n",
        "for i, (value, name) in enumerate(zip(top_5['Confirmed'], top_5['Country'])):\n",
        "    confirmed.text(value, i - 0.15, f'{value:,.0f}', size=9)\n",
        "for i, (value, name) in enumerate(zip(top_5['Recovered'], top_5['Country'])):\n",
        "    recovered.text(value, i + 0.15, f'{value:,.0f}', size=9)\n",
        "\n",
        "plt.legend(loc='lower right')\n",
        "plt.title(\"Top 5 Countries by Confirmed and Recovered Cases\")\n",
        "plt.tight_layout()\n",
        "plt.show()\n"
      ],
      "metadata": {
        "id": "jVmqdGGd64Q1",
        "outputId": "95fcc242-d5d1-40fc-ab37-1a726383f692",
        "colab": {
          "base_uri": "https://localhost:8080/",
          "height": 425
        }
      },
      "execution_count": null,
      "outputs": [
        {
          "output_type": "display_data",
          "data": {
            "text/plain": [
              "<Figure size 1500x500 with 1 Axes>"
            ],
            "image/png": "[encoded data removed]"
          },
          "metadata": {}
        }
      ]
    },
    {
      "cell_type": "code",
      "source": [
        "import pandas as pd\n",
        "from sklearn.metrics import mean_absolute_error  # Correct import statement\n",
        "\n",
        "# Load the data (make any necessary file path adjustments).\n",
        "df = pd.read_csv('country_wise_latest.csv')\n",
        "\n",
        "# Remove rows in 'Recovered' or 'New recovered' that contain missing values.\n",
        "df_clean = df.dropna(subset=['Recovered', 'New recovered'])\n",
        "\n",
        "# Actual and anticipated values\n",
        "actual = df_clean['Recovered']\n",
        "anticipated = df_clean['New recovered']\n",
        "\n",
        "# Calculate the MAE (Mean Absolute Error)\n",
        "mae = mean_absolute_error(actual, anticipated)\n",
        "\n",
        "# Determine the MAE by using the formula\n",
        "print(\"Mean Absolute Error (MAE):\", mae)\n",
        "\n"
      ],
      "metadata": {
        "colab": {
          "base_uri": "https://localhost:8080/"
        },
        "id": "CkFbaW-Su5_n",
        "outputId": "9253debf-98ad-4639-d389-f21b93e1d81e"
      },
      "execution_count": null,
      "outputs": [
        {
          "output_type": "stream",
          "name": "stdout",
          "text": [
            "Mean Absolute Error (MAE): 49697.66844919786\n"
          ]
        }
      ]
    }
  ]
}